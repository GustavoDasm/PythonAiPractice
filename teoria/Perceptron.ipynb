{
 "cells": [
  {
   "cell_type": "code",
   "execution_count": 1,
   "metadata": {},
   "outputs": [],
   "source": [
    "import numpy as np"
   ]
  },
  {
   "cell_type": "code",
   "execution_count": 2,
   "metadata": {},
   "outputs": [],
   "source": [
    "#Implementando una clase para la lógica de un Perceptrón\n",
    "class Perceptron:\n",
    "  def __init__(self, n_entradas, tasa=0.01, epocas=1000):\n",
    "    self.n_entradas=n_entradas,\n",
    "    self.tasa=tasa\n",
    "    self.epocas=epocas\n",
    "    self.pesos=np.zeros(n_entradas+1)\n",
    "\n",
    "  def activacion(self, x):\n",
    "    return 1 if x >= 0 else 0\n",
    "\n",
    "  def predecir(self, entradas):\n",
    "    entradas=np.append(entradas, 1)\n",
    "    suma=np.dot(entradas, self.pesos) #PASAR A CÓDIGO NATIVO (BUCLE)\n",
    "    return self.activacion(suma)\n",
    "\n",
    "  def entrenar(self, x, y):\n",
    "    for i in range(self.epocas):\n",
    "      for entradas, etiqueta in zip(x, y):\n",
    "        entradas=np.append(entradas, 1)\n",
    "        prediccion=self.predecir(entradas[:-1])\n",
    "        error=etiqueta - prediccion\n",
    "        self.pesos+=self.tasa * entradas* error"
   ]
  },
  {
   "cell_type": "code",
   "execution_count": 3,
   "metadata": {},
   "outputs": [],
   "source": [
    "x = np.array([[0,0],[0,1],[1,0],[1,1]])\n",
    "y = np.array([0, 1, 1, 1])\n"
   ]
  },
  {
   "cell_type": "code",
   "execution_count": 4,
   "metadata": {},
   "outputs": [],
   "source": [
    "p = Perceptron(n_entradas=2)\n",
    "p.entrenar(x,y)"
   ]
  },
  {
   "cell_type": "code",
   "execution_count": 6,
   "metadata": {},
   "outputs": [
    {
     "data": {
      "text/plain": [
       "1"
      ]
     },
     "execution_count": 6,
     "metadata": {},
     "output_type": "execute_result"
    }
   ],
   "source": [
    "y_pred = p.predecir(np.array([1,0]))\n",
    "y_pred"
   ]
  }
 ],
 "metadata": {
  "kernelspec": {
   "display_name": "Python 3",
   "language": "python",
   "name": "python3"
  },
  "language_info": {
   "codemirror_mode": {
    "name": "ipython",
    "version": 3
   },
   "file_extension": ".py",
   "mimetype": "text/x-python",
   "name": "python",
   "nbconvert_exporter": "python",
   "pygments_lexer": "ipython3",
   "version": "3.12.4"
  }
 },
 "nbformat": 4,
 "nbformat_minor": 2
}
