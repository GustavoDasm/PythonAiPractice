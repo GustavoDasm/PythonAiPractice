{
 "cells": [
  {
   "cell_type": "code",
   "execution_count": 1,
   "metadata": {},
   "outputs": [],
   "source": [
    "import numpy as np\n",
    "import pandas as pd\n",
    "import matplotlib.pyplot as mat"
   ]
  },
  {
   "cell_type": "code",
   "execution_count": 33,
   "metadata": {},
   "outputs": [
    {
     "name": "stdout",
     "output_type": "stream",
     "text": [
      "Solucion 1 = 0.666666666666667\n",
      "Solucion 2 = 1.6666666666666665\n",
      "Solucion 3 = 1.3333333333333335\n",
      "Redondeado\n",
      "Solucion 1 = 0.7\n",
      "Solucion 2 = 1.7\n",
      "Solucion 3 = 1.3\n"
     ]
    }
   ],
   "source": [
    "\"\"\" Ejercicio 1: Solución de un sistema de ecuaciones lineales usando álgebra lineal\n",
    "Resuelve el siguiente sistema de ecuaciones lineales que surge en el contexto de un modelo de regresión multivariable:\n",
    "\n",
    "3x + 2y -z = 4\n",
    "x - 3y + 4z = 1\n",
    "2x + y + 3z = 7 \"\"\"\n",
    "\n",
    "m1 = np.array([[3, 2, -1],\n",
    "               [1, -3, 4],\n",
    "               [2, 1, 3]])\n",
    "m2 = np.array([4, 1, 7])\n",
    "\n",
    "solucion = np.linalg.solve(m1, m2)\n",
    "\n",
    "print(f\"Solucion 1 = {solucion[0]}\\nSolucion 2 = {solucion[1]}\\nSolucion 3 = {solucion[2]}\" )\n",
    "for i in range(0, len(m2)):\n",
    "    solucion[i] = solucion[i].round(1)\n",
    "    \n",
    "print(f\"Redondeado\\nSolucion 1 = {solucion[0]}\\nSolucion 2 = {solucion[1]}\\nSolucion 3 = {solucion[2]}\" )"
   ]
  },
  {
   "cell_type": "code",
   "execution_count": null,
   "metadata": {},
   "outputs": [],
   "source": [
    "\"\"\" Ejercicio 2: Aplicación de una transformación lineal a un conjunto de datos\n",
    "Dado un conjunto de datos representado por una matriz X, aplícale una transformación lineal utilizando una matriz 𝑇. \n",
    "Esta transformación puede ser usada para modificar las características de entrada en una tarea de aprendizaje automático.\n",
    "\n",
    "[1.0, 2.0, 3.0]\n",
    "[4.0, 5.0, 6.0]\n",
    "[7.0, 8.0, 9.0]\n",
    "\n",
    "[0.5, 0.2, 0.3]\n",
    "[0.1, 0.8, 0.2]\n",
    "[0.4, 0.3, 0.9] \"\"\"\n"
   ]
  },
  {
   "cell_type": "code",
   "execution_count": 34,
   "metadata": {},
   "outputs": [
    {
     "name": "stdout",
     "output_type": "stream",
     "text": [
      "Media: Datos    394.0\n",
      "dtype: float64\n",
      "Mediana: Datos    250.0\n",
      "dtype: float64\n"
     ]
    }
   ],
   "source": [
    "\"\"\" Ejercicio 3: Comparación entre la media y la mediana en un conjunto de datos sesgados\n",
    "Dado un conjunto de datos que representa los precios de casas en una ciudad, compara la media y la mediana para determinar qué métrica \n",
    "describe mejor el centro del conjunto de datos cuando hay valores atípicos.\n",
    "\n",
    "[200, 220, 250, 300, 1000] \"\"\"\n",
    "\n",
    "datos = np.array([200, 220, 250, 300, 1000])\n",
    "dataFrame = pd.DataFrame(datos, columns=[\"Datos\"])\n",
    "media = dataFrame.mean()\n",
    "mediana =  dataFrame.median()\n",
    "print(f\"Media: {media}\\nMediana: {mediana}\")"
   ]
  }
 ],
 "metadata": {
  "kernelspec": {
   "display_name": "Python 3",
   "language": "python",
   "name": "python3"
  },
  "language_info": {
   "codemirror_mode": {
    "name": "ipython",
    "version": 3
   },
   "file_extension": ".py",
   "mimetype": "text/x-python",
   "name": "python",
   "nbconvert_exporter": "python",
   "pygments_lexer": "ipython3",
   "version": "3.12.4"
  }
 },
 "nbformat": 4,
 "nbformat_minor": 2
}
