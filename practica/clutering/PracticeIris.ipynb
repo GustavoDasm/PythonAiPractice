{
 "cells": [
  {
   "cell_type": "code",
   "execution_count": 1,
   "metadata": {},
   "outputs": [],
   "source": [
    "import pandas as pd\n",
    "import numpy as np\n",
    "import matplotlib.pyplot as plt\n",
    "from sklearn.datasets import load_iris\n",
    "from sklearn.cluster import KMeans\n",
    "from sklearn.decomposition import PCA\n"
   ]
  },
  {
   "cell_type": "code",
   "execution_count": 3,
   "metadata": {},
   "outputs": [],
   "source": [
    "# Cargar el dataset Iris\n",
    "iris = load_iris()\n",
    "X = iris.data\n",
    "y = iris.target\n",
    "\n",
    "# Elegir el número de clústeres\n",
    "num_clusters = 3  # Iris tiene 3 clases\n",
    "\n",
    "# Crear el modelo KMeans\n",
    "kmeans = KMeans(n_clusters=num_clusters, random_state=42)\n",
    "\n",
    "# Ajustar el modelo\n",
    "kmeans.fit(X)\n",
    "\n",
    "# Predecir los clústeres\n",
    "labels = kmeans.labels_\n",
    "\n",
    "# Reducir la dimensionalidad a 2D\n",
    "pca = PCA(n_components=2)\n",
    "X_reduced = pca.fit_transform(X)\n",
    "\n",
    "# Crear un DataFrame para visualizar los resultados\n",
    "df = pd.DataFrame(X_reduced, columns=['PCA1', 'PCA2'])\n",
    "df['Cluster'] = labels\n",
    "df['Actual'] = y\n"
   ]
  },
  {
   "cell_type": "code",
   "execution_count": 18,
   "metadata": {},
   "outputs": [
    {
     "data": {
      "text/plain": [
       "species\n",
       "0    50\n",
       "1    50\n",
       "2    50\n",
       "Name: count, dtype: int64"
      ]
     },
     "execution_count": 18,
     "metadata": {},
     "output_type": "execute_result"
    }
   ],
   "source": [
    "# Graficar los clústeres\n",
    "plt.figure(figsize=(10, 6))\n",
    "plt.scatter(df['PCA1'], df['PCA2'], c=df['Cluster'], cmap='viridis', label='Clúster Predicho', alpha=0.5)\n",
    "plt.scatter(df['PCA1'], df['PCA2'], c=df['Actual'], cmap='coolwarm', marker='x', label='Clase Real')\n",
    "plt.title('Clustering del dataset Iris con KMeans')\n",
    "plt.xlabel('PCA1')\n",
    "plt.ylabel('PCA2')\n",
    "plt.legend()\n",
    "plt.show()"
   ]
  }
 ],
 "metadata": {
  "kernelspec": {
   "display_name": "Python 3",
   "language": "python",
   "name": "python3"
  },
  "language_info": {
   "codemirror_mode": {
    "name": "ipython",
    "version": 3
   },
   "file_extension": ".py",
   "mimetype": "text/x-python",
   "name": "python",
   "nbconvert_exporter": "python",
   "pygments_lexer": "ipython3",
   "version": "3.12.4"
  }
 },
 "nbformat": 4,
 "nbformat_minor": 2
}
